{
 "cells": [
  {
   "cell_type": "code",
   "execution_count": null,
   "metadata": {},
   "outputs": [],
   "source": [
    "import os\n",
    "import sys\n",
    "from IPython.display import clear_output\n",
    "\n",
    "modulepath = os.path.abspath(os.path.join(os.getcwd(), '../'))\n",
    "sys.path.insert(0, modulepath)\n",
    "\n",
    "from interact import System"
   ]
  },
  {
   "cell_type": "markdown",
   "metadata": {},
   "source": [
    "# Working with individual structures and trajectories\n",
    "\n",
    "All import and export of individual structures and MD trajectories is handelded by the `System` class. This is a smart wrapper around functionality of the excellent *MDTraj* library that takes care of the heavy lifting of importing and exporting many of the popular [trajectory formats](http://mdtraj.org/1.9.0/index.html).\n",
    "\n",
    "Being a wrapper, the `System` class accepts the same arguments as *MDTraj* loaders; a trajectory or structure file and an optional topology file using the `top` keyword argument. In addition, it accepts a Tripos MOL2 file format as source of Tripos SYBYL atom types used in many of the analysis routines. The `System` class uses lazy loading for efficient out-of-core analysis of large trajectory files.\n",
    "\n",
    "The `System` class returns `TopologyDataFrame` or `TopologySeries` objects that are extended [*Pandas*](https://pandas.pydata.org) DataFrame and Series objects. The extension towards Pandas makes all the powerfull data analysis functionality of this popular library available for structure analysis."
   ]
  },
  {
   "cell_type": "markdown",
   "metadata": {},
   "source": [
    "## 1.0 Loading single structures\n",
    "\n",
    "A single model PDB file is analogous to a single frame trajectory. A timestep is not defined in this situation, starttime is 0 and the number of frames is 1."
   ]
  },
  {
   "cell_type": "code",
   "execution_count": null,
   "metadata": {},
   "outputs": [],
   "source": [
    "# Loading a single RCSB Protein Data Bank (pdb) file from disk\n",
    "pdb = os.path.join(modulepath, 'tests/files/dnmt.pdb')\n",
    "molsys = System(pdb)\n",
    "\n",
    "# Display some general system information\n",
    "print(molsys.timestep)\n",
    "print(molsys.starttime)\n",
    "print(len(molsys)) # Number of frames\n",
    "\n",
    "# Access TopologyDataFrame. This equals the first and in this case only frame \n",
    "print(molsys.topology)"
   ]
  },
  {
   "cell_type": "markdown",
   "metadata": {},
   "source": [
    "The `System.topology` object is a TopologyDataFrame object representing the topology of the system. It is created once at initialization of the molecular System class by parsing the first frame of the provided trajectory or structure file. In case of a single model PDB file the `topology` attribute and references coordinate set represent the PDB itself. The *Pandas* TopologyDataFrame object can be queried to obtain information on the structure. "
   ]
  },
  {
   "cell_type": "code",
   "execution_count": null,
   "metadata": {},
   "outputs": [],
   "source": [
    "# Get unique counts for every column. Equals number of atoms, residue, chains and segments among other\n",
    "print(molsys.topology.nunique())\n",
    "\n",
    "# Get residue counts for the whole system\n",
    "print(molsys.topology.groupby('resName').count())"
   ]
  },
  {
   "cell_type": "markdown",
   "metadata": {},
   "source": [
    "## 2.0 Loading multi-model structure files\n",
    "\n",
    "A structure file containing multiple models (like a multi-model PDB file) is regarded as a trajectory containing\n",
    "multiple frames."
   ]
  },
  {
   "cell_type": "code",
   "execution_count": null,
   "metadata": {},
   "outputs": [],
   "source": [
    "# Loading a multi-model RCSB Protein Data Bank (pdb) file from disk\n",
    "pdb = os.path.join(modulepath, 'tests/files/2mru.pdb')\n",
    "molsys = System(pdb)\n",
    "\n",
    "# Display some general system information\n",
    "print(molsys.timestep)\n",
    "print(molsys.starttime)\n",
    "print(len(molsys)) # Number of frames"
   ]
  },
  {
   "cell_type": "markdown",
   "metadata": {},
   "source": [
    "The `System` class offers a number of methods to iterate over availbel frames or derive specific frame selections"
   ]
  },
  {
   "cell_type": "code",
   "execution_count": null,
   "metadata": {},
   "outputs": [],
   "source": [
    "# Iterate over frames, one frame at a time\n",
    "for frame, nr in molsys.iter_frames():\n",
    "    print(nr)\n",
    "\n",
    "# Or using the shortcut __iter__\n",
    "for frame, nr in molsys:\n",
    "    print(nr)"
   ]
  },
  {
   "cell_type": "markdown",
   "metadata": {},
   "source": [
    "## 3.0 Loading molecular dynamics trajectories"
   ]
  },
  {
   "cell_type": "code",
   "execution_count": null,
   "metadata": {},
   "outputs": [],
   "source": [
    "xtc = os.path.join(modulepath, 'tests/files/dnmt.xtc')\n",
    "pdb = os.path.join(modulepath, 'tests/files/dnmt.pdb')\n",
    "mol = os.path.join(modulepath, 'tests/files/dnmt.mol2')"
   ]
  },
  {
   "cell_type": "code",
   "execution_count": null,
   "metadata": {},
   "outputs": [],
   "source": [
    "top = System(xtc, top=pdb, mol2file=mol)\n",
    "print(top.timestep)\n",
    "print(top.starttime)\n",
    "\n",
    "# Using `iter_frames` for lazy loading frames\n",
    "for frame, fn in top.iter_frames(start=100, stop=200, step=10):\n",
    "    print(fn, frame.time)\n",
    "\n",
    "# Shortcut using __getitem__\n",
    "print(top[13])\n",
    "\n",
    "for frame, fn in top[:20:2]:\n",
    "    print(fn, frame.time, frame.coord.mean())\n",
    "\n",
    "# NOTE: using buildin 'list' to generate a list from the generator\n",
    "#       will not work as it will not copy the coordinate frame in\n",
    "#       the respective frame\n",
    "sel = list(top[1:4])"
   ]
  },
  {
   "cell_type": "code",
   "execution_count": null,
   "metadata": {},
   "outputs": [],
   "source": [
    "# Example trajectory contains 250 frames\n",
    "\n",
    "top = System(xtc, top=gro, mol2file=mol)\n",
    "for frame, fn in top.iter_frames(chunk=100):\n",
    "    \n",
    "    #dna = frame[frame['resSeq'].isin((403, 432))]\n",
    "    #dna.distances()\n",
    "    \n",
    "    #cf = dna[dna['resSeq'] == 403].contacts(target=dna)\n",
    "    #cf = eval_hbonds(cf, dna)\n",
    "    #print(cf[cf['contact'] != 'nd'])\n",
    "    \n",
    "    #clear_output(wait=True)\n",
    "    print('Processed frame {0}'.format(fn))\n",
    "\n",
    "print('Finished trajectory analysis')"
   ]
  }
 ],
 "metadata": {
  "kernelspec": {
   "display_name": "Python 2",
   "language": "python",
   "name": "python2"
  },
  "language_info": {
   "codemirror_mode": {
    "name": "ipython",
    "version": 2
   },
   "file_extension": ".py",
   "mimetype": "text/x-python",
   "name": "python",
   "nbconvert_exporter": "python",
   "pygments_lexer": "ipython2",
   "version": "2.7.15"
  }
 },
 "nbformat": 4,
 "nbformat_minor": 2
}
