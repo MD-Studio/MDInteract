{
 "cells": [
  {
   "cell_type": "code",
   "execution_count": 1,
   "metadata": {},
   "outputs": [],
   "source": [
    "import os\n",
    "import sys\n",
    "import logging\n",
    "from IPython.display import clear_output\n",
    "\n",
    "logging.basicConfig(level=logging.INFO)\n",
    "\n",
    "modulepath = os.path.abspath(os.path.join(os.getcwd(), '../'))\n",
    "sys.path.insert(0, modulepath)\n",
    "\n",
    "from interact import System"
   ]
  },
  {
   "cell_type": "markdown",
   "metadata": {},
   "source": [
    "# Working with a contact DataFrame\n",
    "\n",
    "## 1.0 Creating a contact DataFrame"
   ]
  },
  {
   "cell_type": "code",
   "execution_count": 17,
   "metadata": {},
   "outputs": [
    {
     "name": "stdout",
     "output_type": "stream",
     "text": [
      "0   source                                                               \\\n",
      "1   serial name element resSeq resName chainID segmentID attype  charge   \n",
      "626   5598   N6       N    423      DA       2              N.3 -0.2985   \n",
      "658   5598   N6       N    423      DA       2              N.3 -0.2985   \n",
      "595   5599  H61       H    423      DA       2                H  0.1209   \n",
      "596   5600  H62       H    423      DA       2                H  0.1209   \n",
      "\n",
      "0   target   ...                                                            \\\n",
      "1   serial   ...   element resSeq resName chainID segmentID attype  charge   \n",
      "626   5599   ...         H    423      DA       2                H  0.1209   \n",
      "658   5600   ...         H    423      DA       2                H  0.1209   \n",
      "595   5598   ...         N    423      DA       2              N.3 -0.2985   \n",
      "596   5598   ...         N    423      DA       2              N.3 -0.2985   \n",
      "\n",
      "0                   contact  \n",
      "1    distance angle          \n",
      "626  0.100986   NaN      nd  \n",
      "658  0.100339   NaN      nd  \n",
      "595  0.100986   NaN      nd  \n",
      "596  0.100339   NaN      nd  \n",
      "\n",
      "[4 rows x 21 columns]\n"
     ]
    }
   ],
   "source": [
    "# Loading a single RCSB Protein Data Bank (pdb) file from disk\n",
    "pdb = os.path.join(modulepath, 'tests/files/dnmt.pdb')\n",
    "mol2 = os.path.join(modulepath, 'tests/files/dnmt.mol2')\n",
    "molsys = System(pdb, mol2file=mol2)\n",
    "\n",
    "for frame, fn in molsys.iter_frames(auto_chunk=False):\n",
    "    \n",
    "    # Select everything but water\n",
    "    sel = frame[frame['resName'] != 'HOH']\n",
    "    \n",
    "    # Build pairwise-distance matrix\n",
    "    sel.distances()\n",
    "    \n",
    "    dt412 = sel[sel['resSeq'] == 412].covalent_bonds()\n",
    "    da423 = sel[sel['resSeq'] == 423].covalent_bonds()\n",
    "    \n",
    "    # Get donors\n",
    "    don412 = dt412[((dt412[('source', 'element')].isin(('N', 'O'))) & (dt412[('target', 'element')] == 'H')) |\n",
    "                   ((dt412[('target', 'element')].isin(('N', 'O'))) & (dt412[('source', 'element')] == 'H'))]\n",
    "    \n",
    "    don423 = da423[((da423[('source', 'element')].isin(('N', 'O'))) & (da423[('target', 'element')] == 'H')) |\n",
    "                   ((da423[('target', 'element')].isin(('N', 'O'))) & (da423[('source', 'element')] == 'H'))]\n",
    "    \n",
    "    print(don423)"
   ]
  },
  {
   "cell_type": "code",
   "execution_count": null,
   "metadata": {},
   "outputs": [],
   "source": []
  }
 ],
 "metadata": {
  "kernelspec": {
   "display_name": "Python 3",
   "language": "python",
   "name": "python3"
  },
  "language_info": {
   "codemirror_mode": {
    "name": "ipython",
    "version": 3
   },
   "file_extension": ".py",
   "mimetype": "text/x-python",
   "name": "python",
   "nbconvert_exporter": "python",
   "pygments_lexer": "ipython3",
   "version": "3.6.8"
  }
 },
 "nbformat": 4,
 "nbformat_minor": 2
}
